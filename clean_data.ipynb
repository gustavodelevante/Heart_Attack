{
  "nbformat": 4,
  "nbformat_minor": 0,
  "metadata": {
    "colab": {
      "name": "clean_data.ipynb",
      "provenance": [],
      "mount_file_id": "18KTl5HZUXr_0y5XWCMceXtocqXGpBYDI",
      "authorship_tag": "ABX9TyP3f/roGLQ/fE6ZZQMePx1T",
      "include_colab_link": true
    },
    "kernelspec": {
      "name": "python3",
      "display_name": "Python 3"
    },
    "language_info": {
      "name": "python"
    }
  },
  "cells": [
    {
      "cell_type": "markdown",
      "metadata": {
        "id": "view-in-github",
        "colab_type": "text"
      },
      "source": [
        "<a href=\"https://colab.research.google.com/github/gustavodelevante/Heart_Attack/blob/main/clean_data.ipynb\" target=\"_parent\"><img src=\"https://colab.research.google.com/assets/colab-badge.svg\" alt=\"Open In Colab\"/></a>"
      ]
    },
    {
      "cell_type": "code",
      "metadata": {
        "id": "o3c8yAGO6MJb"
      },
      "source": [
        "import pandas as pd\n",
        "import numpy as np\n",
        "import matplotlib.pyplot as plt\n",
        "\n",
        "\n",
        "\n",
        "from sklearn.model_selection import train_test_split\n",
        "\n",
        "\n",
        "from sklearn.preprocessing import StandardScaler\n",
        "from sklearn.linear_model import LogisticRegression\n",
        "\n",
        "from sklearn.neighbors import KNeighborsClassifier\n",
        "\n",
        "from sklearn.ensemble import BaggingClassifier\n",
        "from sklearn.ensemble import RandomForestClassifier\n",
        "from sklearn.ensemble import GradientBoostingClassifier\n",
        "\n",
        "import seaborn as sns \n"
      ],
      "execution_count": null,
      "outputs": []
    },
    {
      "cell_type": "code",
      "metadata": {
        "colab": {
          "base_uri": "https://localhost:8080/",
          "height": 419
        },
        "id": "pZVsIgwE6SpE",
        "outputId": "e963ab35-6caf-4fa3-8044-6309cc3e6497"
      },
      "source": [
        "# The data is from https://www.kaggle.com/rashikrahmanpritom/heart-attack-analysis-prediction-dataset\n",
        "heart_df = pd.read_csv(\"/content/drive/MyDrive/Coding Dojo/Project 2/heart.csv\")\n",
        "heart_df"
      ],
      "execution_count": null,
      "outputs": [
        {
          "output_type": "execute_result",
          "data": {
            "text/html": [
              "<div>\n",
              "<style scoped>\n",
              "    .dataframe tbody tr th:only-of-type {\n",
              "        vertical-align: middle;\n",
              "    }\n",
              "\n",
              "    .dataframe tbody tr th {\n",
              "        vertical-align: top;\n",
              "    }\n",
              "\n",
              "    .dataframe thead th {\n",
              "        text-align: right;\n",
              "    }\n",
              "</style>\n",
              "<table border=\"1\" class=\"dataframe\">\n",
              "  <thead>\n",
              "    <tr style=\"text-align: right;\">\n",
              "      <th></th>\n",
              "      <th>age</th>\n",
              "      <th>sex</th>\n",
              "      <th>cp</th>\n",
              "      <th>trtbps</th>\n",
              "      <th>chol</th>\n",
              "      <th>fbs</th>\n",
              "      <th>restecg</th>\n",
              "      <th>thalachh</th>\n",
              "      <th>exng</th>\n",
              "      <th>oldpeak</th>\n",
              "      <th>slp</th>\n",
              "      <th>caa</th>\n",
              "      <th>thall</th>\n",
              "      <th>output</th>\n",
              "    </tr>\n",
              "  </thead>\n",
              "  <tbody>\n",
              "    <tr>\n",
              "      <th>0</th>\n",
              "      <td>63</td>\n",
              "      <td>1</td>\n",
              "      <td>3</td>\n",
              "      <td>145</td>\n",
              "      <td>233</td>\n",
              "      <td>1</td>\n",
              "      <td>0</td>\n",
              "      <td>150</td>\n",
              "      <td>0</td>\n",
              "      <td>2.3</td>\n",
              "      <td>0</td>\n",
              "      <td>0</td>\n",
              "      <td>1</td>\n",
              "      <td>1</td>\n",
              "    </tr>\n",
              "    <tr>\n",
              "      <th>1</th>\n",
              "      <td>37</td>\n",
              "      <td>1</td>\n",
              "      <td>2</td>\n",
              "      <td>130</td>\n",
              "      <td>250</td>\n",
              "      <td>0</td>\n",
              "      <td>1</td>\n",
              "      <td>187</td>\n",
              "      <td>0</td>\n",
              "      <td>3.5</td>\n",
              "      <td>0</td>\n",
              "      <td>0</td>\n",
              "      <td>2</td>\n",
              "      <td>1</td>\n",
              "    </tr>\n",
              "    <tr>\n",
              "      <th>2</th>\n",
              "      <td>41</td>\n",
              "      <td>0</td>\n",
              "      <td>1</td>\n",
              "      <td>130</td>\n",
              "      <td>204</td>\n",
              "      <td>0</td>\n",
              "      <td>0</td>\n",
              "      <td>172</td>\n",
              "      <td>0</td>\n",
              "      <td>1.4</td>\n",
              "      <td>2</td>\n",
              "      <td>0</td>\n",
              "      <td>2</td>\n",
              "      <td>1</td>\n",
              "    </tr>\n",
              "    <tr>\n",
              "      <th>3</th>\n",
              "      <td>56</td>\n",
              "      <td>1</td>\n",
              "      <td>1</td>\n",
              "      <td>120</td>\n",
              "      <td>236</td>\n",
              "      <td>0</td>\n",
              "      <td>1</td>\n",
              "      <td>178</td>\n",
              "      <td>0</td>\n",
              "      <td>0.8</td>\n",
              "      <td>2</td>\n",
              "      <td>0</td>\n",
              "      <td>2</td>\n",
              "      <td>1</td>\n",
              "    </tr>\n",
              "    <tr>\n",
              "      <th>4</th>\n",
              "      <td>57</td>\n",
              "      <td>0</td>\n",
              "      <td>0</td>\n",
              "      <td>120</td>\n",
              "      <td>354</td>\n",
              "      <td>0</td>\n",
              "      <td>1</td>\n",
              "      <td>163</td>\n",
              "      <td>1</td>\n",
              "      <td>0.6</td>\n",
              "      <td>2</td>\n",
              "      <td>0</td>\n",
              "      <td>2</td>\n",
              "      <td>1</td>\n",
              "    </tr>\n",
              "    <tr>\n",
              "      <th>...</th>\n",
              "      <td>...</td>\n",
              "      <td>...</td>\n",
              "      <td>...</td>\n",
              "      <td>...</td>\n",
              "      <td>...</td>\n",
              "      <td>...</td>\n",
              "      <td>...</td>\n",
              "      <td>...</td>\n",
              "      <td>...</td>\n",
              "      <td>...</td>\n",
              "      <td>...</td>\n",
              "      <td>...</td>\n",
              "      <td>...</td>\n",
              "      <td>...</td>\n",
              "    </tr>\n",
              "    <tr>\n",
              "      <th>298</th>\n",
              "      <td>57</td>\n",
              "      <td>0</td>\n",
              "      <td>0</td>\n",
              "      <td>140</td>\n",
              "      <td>241</td>\n",
              "      <td>0</td>\n",
              "      <td>1</td>\n",
              "      <td>123</td>\n",
              "      <td>1</td>\n",
              "      <td>0.2</td>\n",
              "      <td>1</td>\n",
              "      <td>0</td>\n",
              "      <td>3</td>\n",
              "      <td>0</td>\n",
              "    </tr>\n",
              "    <tr>\n",
              "      <th>299</th>\n",
              "      <td>45</td>\n",
              "      <td>1</td>\n",
              "      <td>3</td>\n",
              "      <td>110</td>\n",
              "      <td>264</td>\n",
              "      <td>0</td>\n",
              "      <td>1</td>\n",
              "      <td>132</td>\n",
              "      <td>0</td>\n",
              "      <td>1.2</td>\n",
              "      <td>1</td>\n",
              "      <td>0</td>\n",
              "      <td>3</td>\n",
              "      <td>0</td>\n",
              "    </tr>\n",
              "    <tr>\n",
              "      <th>300</th>\n",
              "      <td>68</td>\n",
              "      <td>1</td>\n",
              "      <td>0</td>\n",
              "      <td>144</td>\n",
              "      <td>193</td>\n",
              "      <td>1</td>\n",
              "      <td>1</td>\n",
              "      <td>141</td>\n",
              "      <td>0</td>\n",
              "      <td>3.4</td>\n",
              "      <td>1</td>\n",
              "      <td>2</td>\n",
              "      <td>3</td>\n",
              "      <td>0</td>\n",
              "    </tr>\n",
              "    <tr>\n",
              "      <th>301</th>\n",
              "      <td>57</td>\n",
              "      <td>1</td>\n",
              "      <td>0</td>\n",
              "      <td>130</td>\n",
              "      <td>131</td>\n",
              "      <td>0</td>\n",
              "      <td>1</td>\n",
              "      <td>115</td>\n",
              "      <td>1</td>\n",
              "      <td>1.2</td>\n",
              "      <td>1</td>\n",
              "      <td>1</td>\n",
              "      <td>3</td>\n",
              "      <td>0</td>\n",
              "    </tr>\n",
              "    <tr>\n",
              "      <th>302</th>\n",
              "      <td>57</td>\n",
              "      <td>0</td>\n",
              "      <td>1</td>\n",
              "      <td>130</td>\n",
              "      <td>236</td>\n",
              "      <td>0</td>\n",
              "      <td>0</td>\n",
              "      <td>174</td>\n",
              "      <td>0</td>\n",
              "      <td>0.0</td>\n",
              "      <td>1</td>\n",
              "      <td>1</td>\n",
              "      <td>2</td>\n",
              "      <td>0</td>\n",
              "    </tr>\n",
              "  </tbody>\n",
              "</table>\n",
              "<p>303 rows × 14 columns</p>\n",
              "</div>"
            ],
            "text/plain": [
              "     age  sex  cp  trtbps  chol  fbs  ...  exng  oldpeak  slp  caa  thall  output\n",
              "0     63    1   3     145   233    1  ...     0      2.3    0    0      1       1\n",
              "1     37    1   2     130   250    0  ...     0      3.5    0    0      2       1\n",
              "2     41    0   1     130   204    0  ...     0      1.4    2    0      2       1\n",
              "3     56    1   1     120   236    0  ...     0      0.8    2    0      2       1\n",
              "4     57    0   0     120   354    0  ...     1      0.6    2    0      2       1\n",
              "..   ...  ...  ..     ...   ...  ...  ...   ...      ...  ...  ...    ...     ...\n",
              "298   57    0   0     140   241    0  ...     1      0.2    1    0      3       0\n",
              "299   45    1   3     110   264    0  ...     0      1.2    1    0      3       0\n",
              "300   68    1   0     144   193    1  ...     0      3.4    1    2      3       0\n",
              "301   57    1   0     130   131    0  ...     1      1.2    1    1      3       0\n",
              "302   57    0   1     130   236    0  ...     0      0.0    1    1      2       0\n",
              "\n",
              "[303 rows x 14 columns]"
            ]
          },
          "metadata": {
            "tags": []
          },
          "execution_count": 2
        }
      ]
    },
    {
      "cell_type": "code",
      "metadata": {
        "colab": {
          "base_uri": "https://localhost:8080/"
        },
        "id": "mr2Oikyw6hmc",
        "outputId": "6c83d93f-43d0-4c70-ab7b-8b120c25b491"
      },
      "source": [
        "heart_df.info()"
      ],
      "execution_count": null,
      "outputs": [
        {
          "output_type": "stream",
          "text": [
            "<class 'pandas.core.frame.DataFrame'>\n",
            "RangeIndex: 303 entries, 0 to 302\n",
            "Data columns (total 14 columns):\n",
            " #   Column    Non-Null Count  Dtype  \n",
            "---  ------    --------------  -----  \n",
            " 0   age       303 non-null    int64  \n",
            " 1   sex       303 non-null    int64  \n",
            " 2   cp        303 non-null    int64  \n",
            " 3   trtbps    303 non-null    int64  \n",
            " 4   chol      303 non-null    int64  \n",
            " 5   fbs       303 non-null    int64  \n",
            " 6   restecg   303 non-null    int64  \n",
            " 7   thalachh  303 non-null    int64  \n",
            " 8   exng      303 non-null    int64  \n",
            " 9   oldpeak   303 non-null    float64\n",
            " 10  slp       303 non-null    int64  \n",
            " 11  caa       303 non-null    int64  \n",
            " 12  thall     303 non-null    int64  \n",
            " 13  output    303 non-null    int64  \n",
            "dtypes: float64(1), int64(13)\n",
            "memory usage: 33.3 KB\n"
          ],
          "name": "stdout"
        }
      ]
    },
    {
      "cell_type": "code",
      "metadata": {
        "colab": {
          "base_uri": "https://localhost:8080/",
          "height": 142
        },
        "id": "3lhKam4dJsqo",
        "outputId": "685e58cc-95a7-4b14-c663-ccb93ecc9ccb"
      },
      "source": [
        "heart_df.groupby([\"output\"])[[\"age\"]].mean()"
      ],
      "execution_count": null,
      "outputs": [
        {
          "output_type": "execute_result",
          "data": {
            "text/html": [
              "<div>\n",
              "<style scoped>\n",
              "    .dataframe tbody tr th:only-of-type {\n",
              "        vertical-align: middle;\n",
              "    }\n",
              "\n",
              "    .dataframe tbody tr th {\n",
              "        vertical-align: top;\n",
              "    }\n",
              "\n",
              "    .dataframe thead th {\n",
              "        text-align: right;\n",
              "    }\n",
              "</style>\n",
              "<table border=\"1\" class=\"dataframe\">\n",
              "  <thead>\n",
              "    <tr style=\"text-align: right;\">\n",
              "      <th></th>\n",
              "      <th>age</th>\n",
              "    </tr>\n",
              "    <tr>\n",
              "      <th>output</th>\n",
              "      <th></th>\n",
              "    </tr>\n",
              "  </thead>\n",
              "  <tbody>\n",
              "    <tr>\n",
              "      <th>0</th>\n",
              "      <td>56.601449</td>\n",
              "    </tr>\n",
              "    <tr>\n",
              "      <th>1</th>\n",
              "      <td>52.496970</td>\n",
              "    </tr>\n",
              "  </tbody>\n",
              "</table>\n",
              "</div>"
            ],
            "text/plain": [
              "              age\n",
              "output           \n",
              "0       56.601449\n",
              "1       52.496970"
            ]
          },
          "metadata": {
            "tags": []
          },
          "execution_count": 4
        }
      ]
    },
    {
      "cell_type": "code",
      "metadata": {
        "colab": {
          "base_uri": "https://localhost:8080/",
          "height": 204
        },
        "id": "3eEvvmZIJtoS",
        "outputId": "799e27b3-b6cb-4e38-85ee-53c542a451bf"
      },
      "source": [
        "heart_df.groupby([\"output\",\"sex\"])[[\"age\"]].mean()  # sex = 1 = woman "
      ],
      "execution_count": null,
      "outputs": [
        {
          "output_type": "execute_result",
          "data": {
            "text/html": [
              "<div>\n",
              "<style scoped>\n",
              "    .dataframe tbody tr th:only-of-type {\n",
              "        vertical-align: middle;\n",
              "    }\n",
              "\n",
              "    .dataframe tbody tr th {\n",
              "        vertical-align: top;\n",
              "    }\n",
              "\n",
              "    .dataframe thead th {\n",
              "        text-align: right;\n",
              "    }\n",
              "</style>\n",
              "<table border=\"1\" class=\"dataframe\">\n",
              "  <thead>\n",
              "    <tr style=\"text-align: right;\">\n",
              "      <th></th>\n",
              "      <th></th>\n",
              "      <th>age</th>\n",
              "    </tr>\n",
              "    <tr>\n",
              "      <th>output</th>\n",
              "      <th>sex</th>\n",
              "      <th></th>\n",
              "    </tr>\n",
              "  </thead>\n",
              "  <tbody>\n",
              "    <tr>\n",
              "      <th rowspan=\"2\" valign=\"top\">0</th>\n",
              "      <th>0</th>\n",
              "      <td>59.041667</td>\n",
              "    </tr>\n",
              "    <tr>\n",
              "      <th>1</th>\n",
              "      <td>56.087719</td>\n",
              "    </tr>\n",
              "    <tr>\n",
              "      <th rowspan=\"2\" valign=\"top\">1</th>\n",
              "      <th>0</th>\n",
              "      <td>54.555556</td>\n",
              "    </tr>\n",
              "    <tr>\n",
              "      <th>1</th>\n",
              "      <td>50.903226</td>\n",
              "    </tr>\n",
              "  </tbody>\n",
              "</table>\n",
              "</div>"
            ],
            "text/plain": [
              "                  age\n",
              "output sex           \n",
              "0      0    59.041667\n",
              "       1    56.087719\n",
              "1      0    54.555556\n",
              "       1    50.903226"
            ]
          },
          "metadata": {
            "tags": []
          },
          "execution_count": 5
        }
      ]
    },
    {
      "cell_type": "code",
      "metadata": {
        "id": "XaGWeh0nJtqY"
      },
      "source": [
        "# differen list \n",
        "# inspired by https://matplotlib.org/stable/gallery/lines_bars_and_markers/barchart.html#sphx-glr-gallery-lines-bars-and-markers-barchart-py\n",
        "# different seperations on the data \n",
        "\n",
        "male_lis = heart_df.loc[heart_df[\"sex\"] == 0, :]    # male list \n",
        "female_lis = heart_df.loc[heart_df[\"sex\"] == 1, :]    # female list \n",
        "\n",
        "high_risk = heart_df.loc[heart_df[\"output\"] == 1, :]\n",
        "low_risk = heart_df.loc[heart_df[\"output\"] == 0, :]\n",
        "\n",
        "male_high = male_lis.loc[male_lis[\"output\"] == 1, :]\n",
        "female_high = female_lis.loc[female_lis[\"output\"] == 1, :]\n"
      ],
      "execution_count": null,
      "outputs": []
    },
    {
      "cell_type": "code",
      "metadata": {
        "colab": {
          "base_uri": "https://localhost:8080/"
        },
        "id": "yANRRQAcM8ba",
        "outputId": "3d352228-ca34-4fd8-dc2c-6485155f1f80"
      },
      "source": [
        "print(np.mean(heart_df[\"age\"]))\n",
        "print(np.median(heart_df[\"age\"]))"
      ],
      "execution_count": null,
      "outputs": [
        {
          "output_type": "stream",
          "text": [
            "54.366336633663366\n",
            "55.0\n"
          ],
          "name": "stdout"
        }
      ]
    },
    {
      "cell_type": "code",
      "metadata": {
        "colab": {
          "base_uri": "https://localhost:8080/",
          "height": 298
        },
        "id": "iLBTb-O-Nifm",
        "outputId": "d1b28713-9cf6-4049-d2f2-3e42d63d7ec9"
      },
      "source": [
        "plt.hist(female_high[\"age\"].tolist(), color=\"green\", edgecolor= \"k\", bins= 13, alpha= 0.7, label=\"Female\");   # inspired by https://stackoverflow.com/questions/6871201/plot-two-histograms-on-single-chart-with-matplotlib\n",
        "plt.hist(male_high[\"age\"].tolist(), color=\"orange\", edgecolor= \"k\", bins= 13, alpha= 0.7,label= \"Male\");\n",
        "plt.style.use(\"seaborn\")\n",
        "plt.legend();\n",
        "plt.title(\"Heart Attack based on Age and gender\");\n",
        "plt.xlabel(\"Age\", fontsize= 15);\n",
        "plt.ylabel(\"Ammount of Persons\", fontsize= 15);\n",
        "\n",
        "\n",
        "\n",
        "plt.savefig(\"HeartAttack_age.png\");"
      ],
      "execution_count": null,
      "outputs": [
        {
          "output_type": "display_data",
          "data": {
            "image/png": "[encoded data removed]",
            "text/plain": [
              "<Figure size 432x288 with 1 Axes>"
            ]
          },
          "metadata": {
            "tags": [],
            "needs_background": "light"
          }
        }
      ]
    },
    {
      "cell_type": "code",
      "metadata": {
        "colab": {
          "base_uri": "https://localhost:8080/",
          "height": 380
        },
        "id": "khvZxcVjWxJc",
        "outputId": "ead38cfa-dab5-4408-bfbc-64caee3c8f8d"
      },
      "source": [
        "plt.hist(high_risk[\"age\"].tolist(), color=\"green\", edgecolor= \"k\", bins= 13, alpha= 0.7, label=\"Heart Atack\");   \n",
        "plt.hist(low_risk[\"age\"].tolist(), color=\"orange\", edgecolor= \"k\", bins= 13, alpha= 0.7,label= \"No Heart Attack\");\n",
        "plt.style.use(\"seaborn\")\n",
        "plt.legend();\n",
        "plt.title(\"Heart Attack based on age\");\n",
        "plt.xlabel(\"Age\", fontsize= 15);\n",
        "plt.ylabel(\"Ammount of Persons\", fontsize= 15);\n"
      ],
      "execution_count": null,
      "outputs": [
        {
          "output_type": "display_data",
          "data": {
            "image/png": "[encoded data removed]",
            "text/plain": [
              "<Figure size 576x396 with 1 Axes>"
            ]
          },
          "metadata": {
            "tags": []
          }
        }
      ]
    },
    {
      "cell_type": "code",
      "metadata": {
        "colab": {
          "base_uri": "https://localhost:8080/",
          "height": 405
        },
        "id": "8G8WUV4RJtsO",
        "outputId": "6da3868c-3803-4dc9-dbb8-b6098f98ff4b"
      },
      "source": [
        "\n",
        "width = 0.35\n",
        "label = [\"Low Risk\", \"High Risk\"]\n",
        "x = np.arange(len(label))\n",
        "men_age = [np.mean(male_lis[\"age\"].loc[male_lis[\"output\"] == 0]),np.mean(male_lis[\"age\"].loc[male_lis[\"output\"] == 1])]\n",
        "female_age =[np.mean(female_lis[\"age\"].loc[female_lis[\"output\"] == 0]),np.mean(female_lis[\"age\"].loc[female_lis[\"output\"] == 1])] \n",
        "\n",
        "\n",
        "fig, ax = plt.subplots()\n",
        "rects1 = ax.bar(x - width/2, men_age, width, label='Men')\n",
        "rects2 = ax.bar(x + width/2, female_age, width, label='Female')\n",
        "\n",
        "ax.set_ylabel('Age')\n",
        "ax.set_title('Risk based on Age and Sex')\n",
        "ax.set_xticks(x)\n",
        "ax.set_xticklabels(label)\n",
        "ax.legend()\n",
        "\n",
        "\n",
        "fig.tight_layout()\n",
        "plt.grid()\n",
        "\n",
        "\n",
        "fig.tight_layout()\n",
        "plt.savefig(\"Risk_based_age_gender.png\");\n",
        "plt.show()\n",
        "\n"
      ],
      "execution_count": null,
      "outputs": [
        {
          "output_type": "display_data",
          "data": {
            "image/png": "[encoded data removed]",
            "text/plain": [
              "<Figure size 576x396 with 1 Axes>"
            ]
          },
          "metadata": {
            "tags": []
          }
        }
      ]
    },
    {
      "cell_type": "code",
      "metadata": {
        "colab": {
          "base_uri": "https://localhost:8080/",
          "height": 204
        },
        "id": "mGpleFfUJtvg",
        "outputId": "ad0f4f7c-65df-4f6c-c071-8ffac4151eab"
      },
      "source": [
        "heart_df.groupby([\"output\",\"sex\"])[[\"chol\"]].mean() "
      ],
      "execution_count": null,
      "outputs": [
        {
          "output_type": "execute_result",
          "data": {
            "text/html": [
              "<div>\n",
              "<style scoped>\n",
              "    .dataframe tbody tr th:only-of-type {\n",
              "        vertical-align: middle;\n",
              "    }\n",
              "\n",
              "    .dataframe tbody tr th {\n",
              "        vertical-align: top;\n",
              "    }\n",
              "\n",
              "    .dataframe thead th {\n",
              "        text-align: right;\n",
              "    }\n",
              "</style>\n",
              "<table border=\"1\" class=\"dataframe\">\n",
              "  <thead>\n",
              "    <tr style=\"text-align: right;\">\n",
              "      <th></th>\n",
              "      <th></th>\n",
              "      <th>chol</th>\n",
              "    </tr>\n",
              "    <tr>\n",
              "      <th>output</th>\n",
              "      <th>sex</th>\n",
              "      <th></th>\n",
              "    </tr>\n",
              "  </thead>\n",
              "  <tbody>\n",
              "    <tr>\n",
              "      <th rowspan=\"2\" valign=\"top\">0</th>\n",
              "      <th>0</th>\n",
              "      <td>274.958333</td>\n",
              "    </tr>\n",
              "    <tr>\n",
              "      <th>1</th>\n",
              "      <td>246.061404</td>\n",
              "    </tr>\n",
              "    <tr>\n",
              "      <th rowspan=\"2\" valign=\"top\">1</th>\n",
              "      <th>0</th>\n",
              "      <td>256.750000</td>\n",
              "    </tr>\n",
              "    <tr>\n",
              "      <th>1</th>\n",
              "      <td>230.989247</td>\n",
              "    </tr>\n",
              "  </tbody>\n",
              "</table>\n",
              "</div>"
            ],
            "text/plain": [
              "                  chol\n",
              "output sex            \n",
              "0      0    274.958333\n",
              "       1    246.061404\n",
              "1      0    256.750000\n",
              "       1    230.989247"
            ]
          },
          "metadata": {
            "tags": []
          },
          "execution_count": 11
        }
      ]
    },
    {
      "cell_type": "code",
      "metadata": {
        "colab": {
          "base_uri": "https://localhost:8080/",
          "height": 365
        },
        "id": "kIDQdpFM_43n",
        "outputId": "392dee94-c483-4d13-97fd-bb1a95303466"
      },
      "source": [
        "plt.hist(low_risk[\"chol\"].tolist(), color=\"royalblue\", edgecolor= \"k\", bins= 13, alpha= 0.7, label=\"No Heart Attack\");   # inspired by https://stackoverflow.com/questions/6871201/plot-two-histograms-on-single-chart-with-matplotlib\n",
        "plt.hist(high_risk[\"chol\"].tolist(), color=\"orange\", edgecolor= \"k\", bins= 13, alpha= 0.7,label= \"Heart Attack\");\n",
        "plt.style.use(\"seaborn\")\n",
        "plt.legend();\n",
        "plt.xlabel(\"Cholesterol\", fontsize= 15);\n",
        "plt.ylabel(\"Ammount of Persons\", fontsize= 15);\n",
        "\n"
      ],
      "execution_count": null,
      "outputs": [
        {
          "output_type": "display_data",
          "data": {
            "image/png": "[encoded data removed]",
            "text/plain": [
              "<Figure size 576x396 with 1 Axes>"
            ]
          },
          "metadata": {
            "tags": []
          }
        }
      ]
    },
    {
      "cell_type": "code",
      "metadata": {
        "colab": {
          "base_uri": "https://localhost:8080/",
          "height": 405
        },
        "id": "Xt2wHCyW_45U",
        "outputId": "e0bcc0e2-969e-4fa8-9b01-7a6109fe9f7e"
      },
      "source": [
        "\n",
        "width = 0.35\n",
        "label = [\"Low Risk\", \"High Risk\"]\n",
        "x = np.arange(len(label))\n",
        "men_age = [np.mean(male_lis[\"chol\"].loc[male_lis[\"output\"] == 0]),np.mean(male_lis[\"chol\"].loc[male_lis[\"output\"] == 1])]\n",
        "female_age =[np.mean(female_lis[\"chol\"].loc[female_lis[\"output\"] == 0]),np.mean(female_lis[\"chol\"].loc[female_lis[\"output\"] == 1])] \n",
        "\n",
        "\n",
        "fig, ax = plt.subplots()\n",
        "rects1 = ax.bar(x - width/2, men_age, width, label='Men')\n",
        "rects2 = ax.bar(x + width/2, female_age, width, label='Female')\n",
        "\n",
        "ax.set_ylabel(\"Cholesterol\")\n",
        "ax.set_title('Risk based on Cholesterol and Sex')\n",
        "ax.set_xticks(x)\n",
        "ax.set_xticklabels(label)\n",
        "ax.legend()\n",
        "\n",
        "\n",
        "fig.tight_layout()\n",
        "plt.grid()\n",
        "\n",
        "\n",
        "fig.tight_layout()\n",
        "plt.savefig(\"Risk_based_Cholesterol.png\");\n",
        "plt.show()\n",
        "\n"
      ],
      "execution_count": null,
      "outputs": [
        {
          "output_type": "display_data",
          "data": {
            "image/png": "[encoded data removed]",
            "text/plain": [
              "<Figure size 576x396 with 1 Axes>"
            ]
          },
          "metadata": {
            "tags": []
          }
        }
      ]
    },
    {
      "cell_type": "code",
      "metadata": {
        "colab": {
          "base_uri": "https://localhost:8080/",
          "height": 365
        },
        "id": "BCLV6fQAIyIU",
        "outputId": "69d06c03-34aa-45d3-f4d2-84bb586939ca"
      },
      "source": [
        "plt.hist(high_risk[\"cp\"].tolist(), color=\"red\", edgecolor= \"k\", bins= 13, alpha= 0.7,label= \"Heart Attack\");\n",
        "plt.hist(low_risk[\"cp\"].tolist(), color=\"grey\", edgecolor= \"k\", bins= 13, alpha= 0.7, label=\"No Heart Attack\");   # inspired by https://stackoverflow.com/questions/6871201/plot-two-histograms-on-single-chart-with-matplotlib\n",
        "\n",
        "plt.style.use(\"seaborn\")\n",
        "plt.legend();\n",
        "plt.xlabel(\"Cheast Pain Level\", fontsize= 15);\n",
        "plt.ylabel(\"Ammount of Persons\", fontsize= 15);\n",
        "\n",
        "\n",
        "fig.tight_layout()\n",
        "plt.savefig(\"Heart_attack_baesd_on_pain.png\");"
      ],
      "execution_count": null,
      "outputs": [
        {
          "output_type": "display_data",
          "data": {
            "image/png": "[encoded data removed]",
            "text/plain": [
              "<Figure size 576x396 with 1 Axes>"
            ]
          },
          "metadata": {
            "tags": []
          }
        }
      ]
    },
    {
      "cell_type": "code",
      "metadata": {
        "colab": {
          "base_uri": "https://localhost:8080/"
        },
        "id": "PIOui-IyIyJ2",
        "outputId": "f4bdaa2d-d2e4-4691-d612-c50120e74dfb"
      },
      "source": [
        "label = [\"Exercise\", \"No Exercise\"]\n",
        "exercise = []\n",
        "no_ex_hi = 0\n",
        "ex_hi = 0\n",
        "for i in range(len(high_risk[\"exng\"])):\n",
        "    if high_risk[\"exng\"][i] == 0:\n",
        "        no_ex_hi += 1 \n",
        "    elif high_risk[\"exng\"][i] == 1:\n",
        "        ex_hi +=1 \n",
        "print(\"High Risk no Exercise\", no_ex_hi, \"High Risk Exercise\",ex_hi)\n",
        "\n",
        "\n"
      ],
      "execution_count": null,
      "outputs": [
        {
          "output_type": "stream",
          "text": [
            "High Risk no Exercise 142 High Risk Exercise 23\n"
          ],
          "name": "stdout"
        }
      ]
    },
    {
      "cell_type": "code",
      "metadata": {
        "id": "T0xNjxbIIyK4",
        "colab": {
          "base_uri": "https://localhost:8080/"
        },
        "outputId": "3d50cf7c-0b0f-4279-868e-21b0a04b8817"
      },
      "source": [
        "no_ex_lo = 0\n",
        "ex_lo = 0\n",
        "exng_low_lis = low_risk[\"exng\"].tolist()\n",
        "for n in range(len(exng_low_lis)):\n",
        "    if exng_low_lis[n] == 0:\n",
        "        no_ex_lo += 1 \n",
        "    elif exng_low_lis[n] == 1:\n",
        "        ex_lo +=1 \n",
        "    \n",
        "print(\"Low Risk no Exercise\", no_ex_lo, \"Low Risk Exercise\",ex_lo)\n"
      ],
      "execution_count": null,
      "outputs": [
        {
          "output_type": "stream",
          "text": [
            "Low Risk no Exercise 62 Low Risk Exercise 76\n"
          ],
          "name": "stdout"
        }
      ]
    },
    {
      "cell_type": "code",
      "metadata": {
        "id": "18c_gMGvIyM0",
        "colab": {
          "base_uri": "https://localhost:8080/",
          "height": 363
        },
        "outputId": "031bd917-0c98-4ef9-e437-8e0bdb68feed"
      },
      "source": [
        "# used from https://www.tutorialspoint.com/matplotlib/matplotlib_bar_plot.htm\n",
        "\n",
        "data = [[ex_hi, ex_lo],[no_ex_hi, no_ex_lo]]\n",
        "x = np.arange(2);\n",
        "fig = plt.figure();\n",
        "\n",
        "ax = fig.add_axes([0.1,0.1,0.75,0.75]) # axis starts at 0.1, 0.1 FROM https://stackoverflow.com/questions/19576317/matplotlib-savefig-does-not-save-axes\n",
        "ax.bar(x + 0.00, data[0], color = 'grey', width = 0.25);\n",
        "ax.bar(x + 0.25, data[1], color = 'red', width = 0.25);\n",
        "ax.legend(labels= [\"Exercise\", \"Did not do Exercise\"]);\n",
        "plt.title(\"Probability of Having a Heart Attack based on Exercise\", fontsize= 16);\n",
        "\n",
        "labels = [\"High Risk\", \"Low Risk\"];\n",
        "lneg_2 = np.arange(len(labels)) ;\n",
        "ax.set_xticks(lneg_2);\n",
        "ax.set_xticklabels(labels);\n",
        "\n",
        "\n",
        "plt.savefig(\"Probability_based_on_Exercise.png\");\n"
      ],
      "execution_count": null,
      "outputs": [
        {
          "output_type": "display_data",
          "data": {
            "image/png": "[encoded data removed]",
            "text/plain": [
              "<Figure size 576x396 with 1 Axes>"
            ]
          },
          "metadata": {
            "tags": []
          }
        }
      ]
    },
    {
      "cell_type": "code",
      "metadata": {
        "id": "URjt_0iOIySw"
      },
      "source": [
        ""
      ],
      "execution_count": null,
      "outputs": []
    },
    {
      "cell_type": "code",
      "metadata": {
        "id": "hgIOYHHIJt0T"
      },
      "source": [
        ""
      ],
      "execution_count": null,
      "outputs": []
    },
    {
      "cell_type": "code",
      "metadata": {
        "id": "9emAt5TWJt2a"
      },
      "source": [
        ""
      ],
      "execution_count": null,
      "outputs": []
    },
    {
      "cell_type": "code",
      "metadata": {
        "id": "V-TyVO2B6nmD"
      },
      "source": [
        "X = heart_df.loc[:, heart_df.columns[heart_df.columns != \"output\"]]\n",
        "y = heart_df.loc[:, \"output\"].values"
      ],
      "execution_count": null,
      "outputs": []
    },
    {
      "cell_type": "code",
      "metadata": {
        "id": "1imVwbtvIoAp"
      },
      "source": [
        "X_train, X_test, y_train, y_test = train_test_split(X, y, stratify= y)"
      ],
      "execution_count": null,
      "outputs": []
    },
    {
      "cell_type": "code",
      "metadata": {
        "colab": {
          "base_uri": "https://localhost:8080/"
        },
        "id": "o5ePw7PFaEGJ",
        "outputId": "1d071da8-e3eb-48eb-b992-916c51935dc5"
      },
      "source": [
        "rfc = RandomForestClassifier(n_estimators= 500, bootstrap= True)\n",
        "\n",
        "rfc.fit(X_train, y_train)\n",
        "\n",
        "print(\"Training accuracy:\", rfc.score(X_train, y_train))\n",
        "print(\"Test accuracy: \", rfc.score(X_test, y_test))"
      ],
      "execution_count": null,
      "outputs": [
        {
          "output_type": "stream",
          "text": [
            "Training accuracy: 1.0\n",
            "Test accuracy:  0.8289473684210527\n"
          ],
          "name": "stdout"
        }
      ]
    },
    {
      "cell_type": "code",
      "metadata": {
        "id": "R0H8HmSUIkxI"
      },
      "source": [
        "scaler= StandardScaler()\n",
        "\n",
        "scaler.fit(X_train)\n",
        "\n",
        "X_train= scaler.transform(X_train)\n",
        "X_test = scaler.transform(X_test)\n"
      ],
      "execution_count": null,
      "outputs": []
    },
    {
      "cell_type": "code",
      "metadata": {
        "colab": {
          "base_uri": "https://localhost:8080/"
        },
        "id": "qavpuJLQ9YeS",
        "outputId": "476b053f-3f5d-42ed-cf9f-d922edd5ad7b"
      },
      "source": [
        "log_reg = LogisticRegression(penalty=\"l1\", C= 1.0, solver=\"liblinear\", multi_class=\"ovr\")\n",
        "\n",
        "log_reg.fit(X_train, y_train)\n",
        "print(\"Training accuracy:\", log_reg.score(X_train, y_train))\n",
        "print(\"Test accuracy: \", log_reg.score(X_test, y_test))\n"
      ],
      "execution_count": null,
      "outputs": [
        {
          "output_type": "stream",
          "text": [
            "Training accuracy: 0.8634361233480177\n",
            "Test accuracy:  0.8026315789473685\n"
          ],
          "name": "stdout"
        }
      ]
    },
    {
      "cell_type": "code",
      "metadata": {
        "colab": {
          "base_uri": "https://localhost:8080/"
        },
        "id": "WLDNsboUZ3Xk",
        "outputId": "ed4f9109-2ae0-4305-b103-9e9563ece2a5"
      },
      "source": [
        "log_reg = LogisticRegression(penalty=\"l2\", C= 1.0, solver=\"liblinear\", multi_class=\"ovr\")\n",
        "\n",
        "log_reg.fit(X_train, y_train)\n",
        "print(\"Training accuracy:\", log_reg.score(X_train, y_train))\n",
        "print(\"Test accuracy: \", log_reg.score(X_test, y_test))"
      ],
      "execution_count": null,
      "outputs": [
        {
          "output_type": "stream",
          "text": [
            "Training accuracy: 0.8590308370044053\n",
            "Test accuracy:  0.7894736842105263\n"
          ],
          "name": "stdout"
        }
      ]
    },
    {
      "cell_type": "code",
      "metadata": {
        "colab": {
          "base_uri": "https://localhost:8080/"
        },
        "id": "QeRq-lVfZ8Qs",
        "outputId": "2ac75edc-fb7f-44ca-8ffa-f9d1d08ef4f3"
      },
      "source": [
        "gbc = GradientBoostingClassifier()\n",
        "gbc.fit(X_train, y_train)\n",
        "\n",
        "\n",
        "print('Training accuracy:', gbc.score(X_train, y_train))\n",
        "print('Testing accuracy:', gbc.score(X_test, y_test))"
      ],
      "execution_count": null,
      "outputs": [
        {
          "output_type": "stream",
          "text": [
            "Training accuracy: 0.9955947136563876\n",
            "Testing accuracy: 0.8026315789473685\n"
          ],
          "name": "stdout"
        }
      ]
    },
    {
      "cell_type": "code",
      "metadata": {
        "id": "Cyca3KBJbUov"
      },
      "source": [
        ""
      ],
      "execution_count": null,
      "outputs": []
    }
  ]
}